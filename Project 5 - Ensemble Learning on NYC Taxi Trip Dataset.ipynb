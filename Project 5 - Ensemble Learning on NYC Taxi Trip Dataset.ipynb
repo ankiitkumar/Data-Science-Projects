{
 "cells": [
  {
   "cell_type": "markdown",
   "id": "7728d5fa",
   "metadata": {},
   "source": [
    "# Project 5: Ensemble Learning on NYC Taxi Trip Dataset"
   ]
  },
  {
   "cell_type": "markdown",
   "id": "93633638",
   "metadata": {},
   "source": [
    "#### You are provided with the NYC Taxi Trip Dataset. This dataset contains information about the taxi trips that took place in different parts of New York City and how much time did that trip take to complete."
   ]
  },
  {
   "cell_type": "markdown",
   "id": "bf91450a",
   "metadata": {},
   "source": [
    "#### In this project, the following are the tasks you have to complete:\n",
    "1. Build a K-Nearest neighbours model for the given dataset and find the best value of K.\n",
    "2. Build a Linear model for the given dataset with regularisation.\n",
    "3. Build a Random Forest model for the given dataset.\n",
    "4. Build a Gradient Boosting model for the given dataset.\n",
    "5. Combine all the models above using the averaging technique to generate the final predictions."
   ]
  },
  {
   "cell_type": "code",
   "execution_count": 1,
   "id": "35f451a9",
   "metadata": {},
   "outputs": [],
   "source": [
    "#Importing the initial required libraries\n",
    "import pandas as pd\n",
    "import numpy as np\n",
    "import warnings\n",
    "warnings.filterwarnings('ignore')\n",
    "from sklearn.preprocessing import MinMaxScaler, LabelEncoder"
   ]
  },
  {
   "cell_type": "code",
   "execution_count": 2,
   "id": "58b91818",
   "metadata": {},
   "outputs": [],
   "source": [
    "data = pd.read_csv('nyc_taxi_trip_duration Dataset.csv')"
   ]
  },
  {
   "cell_type": "code",
   "execution_count": 3,
   "id": "87016550",
   "metadata": {},
   "outputs": [
    {
     "data": {
      "text/plain": [
       "(729322, 11)"
      ]
     },
     "execution_count": 3,
     "metadata": {},
     "output_type": "execute_result"
    }
   ],
   "source": [
    "data.shape"
   ]
  },
  {
   "cell_type": "code",
   "execution_count": 4,
   "id": "5e36ed73",
   "metadata": {},
   "outputs": [
    {
     "data": {
      "text/plain": [
       "Index(['id', 'vendor_id', 'pickup_datetime', 'dropoff_datetime',\n",
       "       'passenger_count', 'pickup_longitude', 'pickup_latitude',\n",
       "       'dropoff_longitude', 'dropoff_latitude', 'store_and_fwd_flag',\n",
       "       'trip_duration'],\n",
       "      dtype='object')"
      ]
     },
     "execution_count": 4,
     "metadata": {},
     "output_type": "execute_result"
    }
   ],
   "source": [
    "data.columns"
   ]
  },
  {
   "cell_type": "code",
   "execution_count": 5,
   "id": "24c75c44",
   "metadata": {},
   "outputs": [
    {
     "data": {
      "text/html": [
       "<div>\n",
       "<style scoped>\n",
       "    .dataframe tbody tr th:only-of-type {\n",
       "        vertical-align: middle;\n",
       "    }\n",
       "\n",
       "    .dataframe tbody tr th {\n",
       "        vertical-align: top;\n",
       "    }\n",
       "\n",
       "    .dataframe thead th {\n",
       "        text-align: right;\n",
       "    }\n",
       "</style>\n",
       "<table border=\"1\" class=\"dataframe\">\n",
       "  <thead>\n",
       "    <tr style=\"text-align: right;\">\n",
       "      <th></th>\n",
       "      <th>id</th>\n",
       "      <th>vendor_id</th>\n",
       "      <th>pickup_datetime</th>\n",
       "      <th>dropoff_datetime</th>\n",
       "      <th>passenger_count</th>\n",
       "      <th>pickup_longitude</th>\n",
       "      <th>pickup_latitude</th>\n",
       "      <th>dropoff_longitude</th>\n",
       "      <th>dropoff_latitude</th>\n",
       "      <th>store_and_fwd_flag</th>\n",
       "      <th>trip_duration</th>\n",
       "    </tr>\n",
       "  </thead>\n",
       "  <tbody>\n",
       "    <tr>\n",
       "      <th>0</th>\n",
       "      <td>id1080784</td>\n",
       "      <td>2</td>\n",
       "      <td>2016-02-29 16:40:21</td>\n",
       "      <td>2016-02-29 16:47:01</td>\n",
       "      <td>1</td>\n",
       "      <td>-73.953918</td>\n",
       "      <td>40.778873</td>\n",
       "      <td>-73.963875</td>\n",
       "      <td>40.771164</td>\n",
       "      <td>N</td>\n",
       "      <td>400</td>\n",
       "    </tr>\n",
       "    <tr>\n",
       "      <th>1</th>\n",
       "      <td>id0889885</td>\n",
       "      <td>1</td>\n",
       "      <td>2016-03-11 23:35:37</td>\n",
       "      <td>2016-03-11 23:53:57</td>\n",
       "      <td>2</td>\n",
       "      <td>-73.988312</td>\n",
       "      <td>40.731743</td>\n",
       "      <td>-73.994751</td>\n",
       "      <td>40.694931</td>\n",
       "      <td>N</td>\n",
       "      <td>1100</td>\n",
       "    </tr>\n",
       "    <tr>\n",
       "      <th>2</th>\n",
       "      <td>id0857912</td>\n",
       "      <td>2</td>\n",
       "      <td>2016-02-21 17:59:33</td>\n",
       "      <td>2016-02-21 18:26:48</td>\n",
       "      <td>2</td>\n",
       "      <td>-73.997314</td>\n",
       "      <td>40.721458</td>\n",
       "      <td>-73.948029</td>\n",
       "      <td>40.774918</td>\n",
       "      <td>N</td>\n",
       "      <td>1635</td>\n",
       "    </tr>\n",
       "    <tr>\n",
       "      <th>3</th>\n",
       "      <td>id3744273</td>\n",
       "      <td>2</td>\n",
       "      <td>2016-01-05 09:44:31</td>\n",
       "      <td>2016-01-05 10:03:32</td>\n",
       "      <td>6</td>\n",
       "      <td>-73.961670</td>\n",
       "      <td>40.759720</td>\n",
       "      <td>-73.956779</td>\n",
       "      <td>40.780628</td>\n",
       "      <td>N</td>\n",
       "      <td>1141</td>\n",
       "    </tr>\n",
       "    <tr>\n",
       "      <th>4</th>\n",
       "      <td>id0232939</td>\n",
       "      <td>1</td>\n",
       "      <td>2016-02-17 06:42:23</td>\n",
       "      <td>2016-02-17 06:56:31</td>\n",
       "      <td>1</td>\n",
       "      <td>-74.017120</td>\n",
       "      <td>40.708469</td>\n",
       "      <td>-73.988182</td>\n",
       "      <td>40.740631</td>\n",
       "      <td>N</td>\n",
       "      <td>848</td>\n",
       "    </tr>\n",
       "  </tbody>\n",
       "</table>\n",
       "</div>"
      ],
      "text/plain": [
       "          id  vendor_id      pickup_datetime     dropoff_datetime  \\\n",
       "0  id1080784          2  2016-02-29 16:40:21  2016-02-29 16:47:01   \n",
       "1  id0889885          1  2016-03-11 23:35:37  2016-03-11 23:53:57   \n",
       "2  id0857912          2  2016-02-21 17:59:33  2016-02-21 18:26:48   \n",
       "3  id3744273          2  2016-01-05 09:44:31  2016-01-05 10:03:32   \n",
       "4  id0232939          1  2016-02-17 06:42:23  2016-02-17 06:56:31   \n",
       "\n",
       "   passenger_count  pickup_longitude  pickup_latitude  dropoff_longitude  \\\n",
       "0                1        -73.953918        40.778873         -73.963875   \n",
       "1                2        -73.988312        40.731743         -73.994751   \n",
       "2                2        -73.997314        40.721458         -73.948029   \n",
       "3                6        -73.961670        40.759720         -73.956779   \n",
       "4                1        -74.017120        40.708469         -73.988182   \n",
       "\n",
       "   dropoff_latitude store_and_fwd_flag  trip_duration  \n",
       "0         40.771164                  N            400  \n",
       "1         40.694931                  N           1100  \n",
       "2         40.774918                  N           1635  \n",
       "3         40.780628                  N           1141  \n",
       "4         40.740631                  N            848  "
      ]
     },
     "execution_count": 5,
     "metadata": {},
     "output_type": "execute_result"
    }
   ],
   "source": [
    "data.head()"
   ]
  },
  {
   "cell_type": "code",
   "execution_count": 6,
   "id": "784e22e5",
   "metadata": {},
   "outputs": [
    {
     "data": {
      "text/plain": [
       "id                    0\n",
       "vendor_id             0\n",
       "pickup_datetime       0\n",
       "dropoff_datetime      0\n",
       "passenger_count       0\n",
       "pickup_longitude      0\n",
       "pickup_latitude       0\n",
       "dropoff_longitude     0\n",
       "dropoff_latitude      0\n",
       "store_and_fwd_flag    0\n",
       "trip_duration         0\n",
       "dtype: int64"
      ]
     },
     "execution_count": 6,
     "metadata": {},
     "output_type": "execute_result"
    }
   ],
   "source": [
    "#Checking if there is any null values\n",
    "data.isnull().sum()"
   ]
  },
  {
   "cell_type": "code",
   "execution_count": 7,
   "id": "61f39e25",
   "metadata": {},
   "outputs": [
    {
     "data": {
      "text/plain": [
       "id                    729322\n",
       "vendor_id                  2\n",
       "pickup_datetime       709359\n",
       "dropoff_datetime      709308\n",
       "passenger_count            9\n",
       "pickup_longitude       19729\n",
       "pickup_latitude        39776\n",
       "dropoff_longitude      27892\n",
       "dropoff_latitude       53579\n",
       "store_and_fwd_flag         2\n",
       "trip_duration           6296\n",
       "dtype: int64"
      ]
     },
     "execution_count": 7,
     "metadata": {},
     "output_type": "execute_result"
    }
   ],
   "source": [
    "data.nunique()"
   ]
  },
  {
   "cell_type": "markdown",
   "id": "4ca8aad0",
   "metadata": {},
   "source": [
    "#### 'id' column is not needed as it contains all unique values"
   ]
  },
  {
   "cell_type": "code",
   "execution_count": 8,
   "id": "57e46917",
   "metadata": {},
   "outputs": [
    {
     "data": {
      "text/plain": [
       "id                     object\n",
       "vendor_id               int64\n",
       "pickup_datetime        object\n",
       "dropoff_datetime       object\n",
       "passenger_count         int64\n",
       "pickup_longitude      float64\n",
       "pickup_latitude       float64\n",
       "dropoff_longitude     float64\n",
       "dropoff_latitude      float64\n",
       "store_and_fwd_flag     object\n",
       "trip_duration           int64\n",
       "dtype: object"
      ]
     },
     "execution_count": 8,
     "metadata": {},
     "output_type": "execute_result"
    }
   ],
   "source": [
    "data.dtypes"
   ]
  },
  {
   "cell_type": "code",
   "execution_count": 9,
   "id": "775f4cc6",
   "metadata": {},
   "outputs": [],
   "source": [
    "# Using label_encoder to convert object to numerical data type\n",
    "\n",
    "label_encoder = LabelEncoder()\n",
    "\n",
    "data['store_and_fwd_flag_encoded']= label_encoder.fit_transform(data['store_and_fwd_flag'])\n",
    "data['store_and_fwd_flag_encoded']= label_encoder.fit_transform(data['store_and_fwd_flag'])"
   ]
  },
  {
   "cell_type": "code",
   "execution_count": 10,
   "id": "54900b79",
   "metadata": {},
   "outputs": [],
   "source": [
    "# converting strings to datetime features\n",
    "data['pickup_datetime'] = pd.to_datetime(data.pickup_datetime)\n",
    "data['dropoff_datetime'] = pd.to_datetime(data.dropoff_datetime)"
   ]
  },
  {
   "cell_type": "code",
   "execution_count": 11,
   "id": "38de5e29",
   "metadata": {},
   "outputs": [
    {
     "data": {
      "text/plain": [
       "id                                    object\n",
       "vendor_id                              int64\n",
       "pickup_datetime               datetime64[ns]\n",
       "dropoff_datetime              datetime64[ns]\n",
       "passenger_count                        int64\n",
       "pickup_longitude                     float64\n",
       "pickup_latitude                      float64\n",
       "dropoff_longitude                    float64\n",
       "dropoff_latitude                     float64\n",
       "store_and_fwd_flag                    object\n",
       "trip_duration                          int64\n",
       "store_and_fwd_flag_encoded             int32\n",
       "dtype: object"
      ]
     },
     "execution_count": 11,
     "metadata": {},
     "output_type": "execute_result"
    }
   ],
   "source": [
    "# Checking if it is converted to datatime format\n",
    "data.dtypes"
   ]
  },
  {
   "cell_type": "code",
   "execution_count": 12,
   "id": "6c13a783",
   "metadata": {},
   "outputs": [],
   "source": [
    "# extracting more features from the pickup_datetime variable\n",
    "data['pickup_day'] = data['pickup_datetime'].dt.day\n",
    "data['pickup_hour'] = data['pickup_datetime'].dt.hour\n",
    "data['pickup_weekday'] = data['pickup_datetime'].dt.weekday"
   ]
  },
  {
   "cell_type": "code",
   "execution_count": 13,
   "id": "fe099203",
   "metadata": {},
   "outputs": [],
   "source": [
    "# extracting more features from the dropoff_datetime variable\n",
    "data['dropoff_day'] = data['dropoff_datetime'].dt.day\n",
    "data['dropoff_hour'] = data['dropoff_datetime'].dt.hour\n",
    "data['dropoff_weekday'] = data['dropoff_datetime'].dt.weekday"
   ]
  },
  {
   "cell_type": "code",
   "execution_count": 14,
   "id": "0d18852e",
   "metadata": {},
   "outputs": [],
   "source": [
    "# Now, we'll work on latitude & longitude features\n",
    "# We can use haversine or geopy to get distance from the given coordinates\n",
    "from geopy.distance import great_circle"
   ]
  },
  {
   "cell_type": "code",
   "execution_count": 15,
   "id": "00c639c9",
   "metadata": {},
   "outputs": [],
   "source": [
    "def calc_distance(pickup_lat, pickup_long, dropoff_lat, dropoff_long):\n",
    " \n",
    " start_coords = (pickup_lat, pickup_long)\n",
    " stop_coords = (dropoff_lat, dropoff_long)\n",
    " \n",
    " return great_circle(start_coords,stop_coords).km"
   ]
  },
  {
   "cell_type": "code",
   "execution_count": 16,
   "id": "46778445",
   "metadata": {},
   "outputs": [],
   "source": [
    "data['distance'] = data.apply(lambda x: calc_distance(x['pickup_latitude'], \n",
    "                                                       x['pickup_longitude'],\n",
    "                                                       x['dropoff_latitude'],\n",
    "                                                       x['dropoff_longitude']), axis=1)"
   ]
  },
  {
   "cell_type": "code",
   "execution_count": 17,
   "id": "86c5659b",
   "metadata": {},
   "outputs": [
    {
     "data": {
      "text/plain": [
       "1    517415\n",
       "2    105097\n",
       "5     38926\n",
       "3     29692\n",
       "6     24107\n",
       "4     14050\n",
       "0        33\n",
       "7         1\n",
       "9         1\n",
       "Name: passenger_count, dtype: int64"
      ]
     },
     "execution_count": 17,
     "metadata": {},
     "output_type": "execute_result"
    }
   ],
   "source": [
    "# feature engineering on passenger_count column\n",
    "data['passenger_count'].value_counts()"
   ]
  },
  {
   "cell_type": "code",
   "execution_count": 18,
   "id": "c4be8c84",
   "metadata": {},
   "outputs": [],
   "source": [
    "#We can see there are extremely low values with passenger_count 0, 7 and 9. So, we will remove these records.\n",
    "data = data[data['passenger_count']!=0]\n",
    "data = data[data['passenger_count']<=6]"
   ]
  },
  {
   "cell_type": "code",
   "execution_count": 19,
   "id": "f98374d3",
   "metadata": {},
   "outputs": [
    {
     "data": {
      "text/plain": [
       "1    517415\n",
       "2    105097\n",
       "5     38926\n",
       "3     29692\n",
       "6     24107\n",
       "4     14050\n",
       "Name: passenger_count, dtype: int64"
      ]
     },
     "execution_count": 19,
     "metadata": {},
     "output_type": "execute_result"
    }
   ],
   "source": [
    "data['passenger_count'].value_counts()"
   ]
  },
  {
   "cell_type": "code",
   "execution_count": 20,
   "id": "972949de",
   "metadata": {},
   "outputs": [
    {
     "data": {
      "text/plain": [
       "count    202.579722\n",
       "mean       0.264515\n",
       "std        1.073531\n",
       "min        0.000278\n",
       "25%        0.110278\n",
       "50%        0.184167\n",
       "75%        0.298611\n",
       "max      538.815556\n",
       "Name: trip_duration, dtype: float64"
      ]
     },
     "execution_count": 20,
     "metadata": {},
     "output_type": "execute_result"
    }
   ],
   "source": [
    "# Calculate trip duration in hour\n",
    "data['trip_duration'].describe()/3600"
   ]
  },
  {
   "cell_type": "code",
   "execution_count": 21,
   "id": "826a8945",
   "metadata": {},
   "outputs": [],
   "source": [
    "#The maximum trip duration is of 538 hours which seems to be an outlier. To help the model make more accurate prediction, \n",
    "#we need to log transform this feature."
   ]
  },
  {
   "cell_type": "code",
   "execution_count": 22,
   "id": "15993444",
   "metadata": {},
   "outputs": [],
   "source": [
    "# Trip duration in hours\n",
    "data['trip_duration_in_hour'] = data['trip_duration'].apply(lambda x : x/3600)"
   ]
  },
  {
   "cell_type": "code",
   "execution_count": 23,
   "id": "d91e77ea",
   "metadata": {},
   "outputs": [],
   "source": [
    "# Removing outliers considering that trips are not supposed to exceed a day i.e. 24 hrs\n",
    "data = data[data['trip_duration_in_hour']<=24]"
   ]
  },
  {
   "cell_type": "code",
   "execution_count": 24,
   "id": "59a98667",
   "metadata": {},
   "outputs": [],
   "source": [
    "data['trip_duration_log'] = np.log(data['trip_duration'].values + 1)"
   ]
  },
  {
   "cell_type": "code",
   "execution_count": 25,
   "id": "0de7a03b",
   "metadata": {},
   "outputs": [
    {
     "data": {
      "text/html": [
       "<div>\n",
       "<style scoped>\n",
       "    .dataframe tbody tr th:only-of-type {\n",
       "        vertical-align: middle;\n",
       "    }\n",
       "\n",
       "    .dataframe tbody tr th {\n",
       "        vertical-align: top;\n",
       "    }\n",
       "\n",
       "    .dataframe thead th {\n",
       "        text-align: right;\n",
       "    }\n",
       "</style>\n",
       "<table border=\"1\" class=\"dataframe\">\n",
       "  <thead>\n",
       "    <tr style=\"text-align: right;\">\n",
       "      <th></th>\n",
       "      <th>id</th>\n",
       "      <th>vendor_id</th>\n",
       "      <th>pickup_datetime</th>\n",
       "      <th>dropoff_datetime</th>\n",
       "      <th>passenger_count</th>\n",
       "      <th>pickup_longitude</th>\n",
       "      <th>pickup_latitude</th>\n",
       "      <th>dropoff_longitude</th>\n",
       "      <th>dropoff_latitude</th>\n",
       "      <th>store_and_fwd_flag</th>\n",
       "      <th>...</th>\n",
       "      <th>store_and_fwd_flag_encoded</th>\n",
       "      <th>pickup_day</th>\n",
       "      <th>pickup_hour</th>\n",
       "      <th>pickup_weekday</th>\n",
       "      <th>dropoff_day</th>\n",
       "      <th>dropoff_hour</th>\n",
       "      <th>dropoff_weekday</th>\n",
       "      <th>distance</th>\n",
       "      <th>trip_duration_in_hour</th>\n",
       "      <th>trip_duration_log</th>\n",
       "    </tr>\n",
       "  </thead>\n",
       "  <tbody>\n",
       "    <tr>\n",
       "      <th>0</th>\n",
       "      <td>id1080784</td>\n",
       "      <td>2</td>\n",
       "      <td>2016-02-29 16:40:21</td>\n",
       "      <td>2016-02-29 16:47:01</td>\n",
       "      <td>1</td>\n",
       "      <td>-73.953918</td>\n",
       "      <td>40.778873</td>\n",
       "      <td>-73.963875</td>\n",
       "      <td>40.771164</td>\n",
       "      <td>N</td>\n",
       "      <td>...</td>\n",
       "      <td>0</td>\n",
       "      <td>29</td>\n",
       "      <td>16</td>\n",
       "      <td>0</td>\n",
       "      <td>29</td>\n",
       "      <td>16</td>\n",
       "      <td>0</td>\n",
       "      <td>1.199074</td>\n",
       "      <td>0.111111</td>\n",
       "      <td>5.993961</td>\n",
       "    </tr>\n",
       "    <tr>\n",
       "      <th>1</th>\n",
       "      <td>id0889885</td>\n",
       "      <td>1</td>\n",
       "      <td>2016-03-11 23:35:37</td>\n",
       "      <td>2016-03-11 23:53:57</td>\n",
       "      <td>2</td>\n",
       "      <td>-73.988312</td>\n",
       "      <td>40.731743</td>\n",
       "      <td>-73.994751</td>\n",
       "      <td>40.694931</td>\n",
       "      <td>N</td>\n",
       "      <td>...</td>\n",
       "      <td>0</td>\n",
       "      <td>11</td>\n",
       "      <td>23</td>\n",
       "      <td>4</td>\n",
       "      <td>11</td>\n",
       "      <td>23</td>\n",
       "      <td>4</td>\n",
       "      <td>4.129117</td>\n",
       "      <td>0.305556</td>\n",
       "      <td>7.003974</td>\n",
       "    </tr>\n",
       "    <tr>\n",
       "      <th>2</th>\n",
       "      <td>id0857912</td>\n",
       "      <td>2</td>\n",
       "      <td>2016-02-21 17:59:33</td>\n",
       "      <td>2016-02-21 18:26:48</td>\n",
       "      <td>2</td>\n",
       "      <td>-73.997314</td>\n",
       "      <td>40.721458</td>\n",
       "      <td>-73.948029</td>\n",
       "      <td>40.774918</td>\n",
       "      <td>N</td>\n",
       "      <td>...</td>\n",
       "      <td>0</td>\n",
       "      <td>21</td>\n",
       "      <td>17</td>\n",
       "      <td>6</td>\n",
       "      <td>21</td>\n",
       "      <td>18</td>\n",
       "      <td>6</td>\n",
       "      <td>7.250763</td>\n",
       "      <td>0.454167</td>\n",
       "      <td>7.400010</td>\n",
       "    </tr>\n",
       "    <tr>\n",
       "      <th>3</th>\n",
       "      <td>id3744273</td>\n",
       "      <td>2</td>\n",
       "      <td>2016-01-05 09:44:31</td>\n",
       "      <td>2016-01-05 10:03:32</td>\n",
       "      <td>6</td>\n",
       "      <td>-73.961670</td>\n",
       "      <td>40.759720</td>\n",
       "      <td>-73.956779</td>\n",
       "      <td>40.780628</td>\n",
       "      <td>N</td>\n",
       "      <td>...</td>\n",
       "      <td>0</td>\n",
       "      <td>5</td>\n",
       "      <td>9</td>\n",
       "      <td>1</td>\n",
       "      <td>5</td>\n",
       "      <td>10</td>\n",
       "      <td>1</td>\n",
       "      <td>2.361101</td>\n",
       "      <td>0.316944</td>\n",
       "      <td>7.040536</td>\n",
       "    </tr>\n",
       "    <tr>\n",
       "      <th>4</th>\n",
       "      <td>id0232939</td>\n",
       "      <td>1</td>\n",
       "      <td>2016-02-17 06:42:23</td>\n",
       "      <td>2016-02-17 06:56:31</td>\n",
       "      <td>1</td>\n",
       "      <td>-74.017120</td>\n",
       "      <td>40.708469</td>\n",
       "      <td>-73.988182</td>\n",
       "      <td>40.740631</td>\n",
       "      <td>N</td>\n",
       "      <td>...</td>\n",
       "      <td>0</td>\n",
       "      <td>17</td>\n",
       "      <td>6</td>\n",
       "      <td>2</td>\n",
       "      <td>17</td>\n",
       "      <td>6</td>\n",
       "      <td>2</td>\n",
       "      <td>4.328540</td>\n",
       "      <td>0.235556</td>\n",
       "      <td>6.744059</td>\n",
       "    </tr>\n",
       "  </tbody>\n",
       "</table>\n",
       "<p>5 rows × 21 columns</p>\n",
       "</div>"
      ],
      "text/plain": [
       "          id  vendor_id     pickup_datetime    dropoff_datetime  \\\n",
       "0  id1080784          2 2016-02-29 16:40:21 2016-02-29 16:47:01   \n",
       "1  id0889885          1 2016-03-11 23:35:37 2016-03-11 23:53:57   \n",
       "2  id0857912          2 2016-02-21 17:59:33 2016-02-21 18:26:48   \n",
       "3  id3744273          2 2016-01-05 09:44:31 2016-01-05 10:03:32   \n",
       "4  id0232939          1 2016-02-17 06:42:23 2016-02-17 06:56:31   \n",
       "\n",
       "   passenger_count  pickup_longitude  pickup_latitude  dropoff_longitude  \\\n",
       "0                1        -73.953918        40.778873         -73.963875   \n",
       "1                2        -73.988312        40.731743         -73.994751   \n",
       "2                2        -73.997314        40.721458         -73.948029   \n",
       "3                6        -73.961670        40.759720         -73.956779   \n",
       "4                1        -74.017120        40.708469         -73.988182   \n",
       "\n",
       "   dropoff_latitude store_and_fwd_flag  ...  store_and_fwd_flag_encoded  \\\n",
       "0         40.771164                  N  ...                           0   \n",
       "1         40.694931                  N  ...                           0   \n",
       "2         40.774918                  N  ...                           0   \n",
       "3         40.780628                  N  ...                           0   \n",
       "4         40.740631                  N  ...                           0   \n",
       "\n",
       "   pickup_day  pickup_hour  pickup_weekday  dropoff_day  dropoff_hour  \\\n",
       "0          29           16               0           29            16   \n",
       "1          11           23               4           11            23   \n",
       "2          21           17               6           21            18   \n",
       "3           5            9               1            5            10   \n",
       "4          17            6               2           17             6   \n",
       "\n",
       "   dropoff_weekday  distance  trip_duration_in_hour  trip_duration_log  \n",
       "0                0  1.199074               0.111111           5.993961  \n",
       "1                4  4.129117               0.305556           7.003974  \n",
       "2                6  7.250763               0.454167           7.400010  \n",
       "3                1  2.361101               0.316944           7.040536  \n",
       "4                2  4.328540               0.235556           6.744059  \n",
       "\n",
       "[5 rows x 21 columns]"
      ]
     },
     "execution_count": 25,
     "metadata": {},
     "output_type": "execute_result"
    }
   ],
   "source": [
    "data.head()"
   ]
  },
  {
   "cell_type": "code",
   "execution_count": 26,
   "id": "c260cd71",
   "metadata": {},
   "outputs": [],
   "source": [
    "# Now, we'll remove extra columns/variables\n",
    "df = data.drop(columns=['id', 'pickup_datetime', 'dropoff_datetime', 'pickup_longitude', 'pickup_latitude', 'dropoff_longitude', 'dropoff_latitude', 'store_and_fwd_flag', 'trip_duration', \n",
    "                       'trip_duration_in_hour'])"
   ]
  },
  {
   "cell_type": "code",
   "execution_count": 27,
   "id": "47429f1f",
   "metadata": {},
   "outputs": [
    {
     "data": {
      "text/html": [
       "<div>\n",
       "<style scoped>\n",
       "    .dataframe tbody tr th:only-of-type {\n",
       "        vertical-align: middle;\n",
       "    }\n",
       "\n",
       "    .dataframe tbody tr th {\n",
       "        vertical-align: top;\n",
       "    }\n",
       "\n",
       "    .dataframe thead th {\n",
       "        text-align: right;\n",
       "    }\n",
       "</style>\n",
       "<table border=\"1\" class=\"dataframe\">\n",
       "  <thead>\n",
       "    <tr style=\"text-align: right;\">\n",
       "      <th></th>\n",
       "      <th>vendor_id</th>\n",
       "      <th>passenger_count</th>\n",
       "      <th>store_and_fwd_flag_encoded</th>\n",
       "      <th>pickup_day</th>\n",
       "      <th>pickup_hour</th>\n",
       "      <th>pickup_weekday</th>\n",
       "      <th>dropoff_day</th>\n",
       "      <th>dropoff_hour</th>\n",
       "      <th>dropoff_weekday</th>\n",
       "      <th>distance</th>\n",
       "      <th>trip_duration_log</th>\n",
       "    </tr>\n",
       "  </thead>\n",
       "  <tbody>\n",
       "    <tr>\n",
       "      <th>0</th>\n",
       "      <td>2</td>\n",
       "      <td>1</td>\n",
       "      <td>0</td>\n",
       "      <td>29</td>\n",
       "      <td>16</td>\n",
       "      <td>0</td>\n",
       "      <td>29</td>\n",
       "      <td>16</td>\n",
       "      <td>0</td>\n",
       "      <td>1.199074</td>\n",
       "      <td>5.993961</td>\n",
       "    </tr>\n",
       "    <tr>\n",
       "      <th>1</th>\n",
       "      <td>1</td>\n",
       "      <td>2</td>\n",
       "      <td>0</td>\n",
       "      <td>11</td>\n",
       "      <td>23</td>\n",
       "      <td>4</td>\n",
       "      <td>11</td>\n",
       "      <td>23</td>\n",
       "      <td>4</td>\n",
       "      <td>4.129117</td>\n",
       "      <td>7.003974</td>\n",
       "    </tr>\n",
       "    <tr>\n",
       "      <th>2</th>\n",
       "      <td>2</td>\n",
       "      <td>2</td>\n",
       "      <td>0</td>\n",
       "      <td>21</td>\n",
       "      <td>17</td>\n",
       "      <td>6</td>\n",
       "      <td>21</td>\n",
       "      <td>18</td>\n",
       "      <td>6</td>\n",
       "      <td>7.250763</td>\n",
       "      <td>7.400010</td>\n",
       "    </tr>\n",
       "    <tr>\n",
       "      <th>3</th>\n",
       "      <td>2</td>\n",
       "      <td>6</td>\n",
       "      <td>0</td>\n",
       "      <td>5</td>\n",
       "      <td>9</td>\n",
       "      <td>1</td>\n",
       "      <td>5</td>\n",
       "      <td>10</td>\n",
       "      <td>1</td>\n",
       "      <td>2.361101</td>\n",
       "      <td>7.040536</td>\n",
       "    </tr>\n",
       "    <tr>\n",
       "      <th>4</th>\n",
       "      <td>1</td>\n",
       "      <td>1</td>\n",
       "      <td>0</td>\n",
       "      <td>17</td>\n",
       "      <td>6</td>\n",
       "      <td>2</td>\n",
       "      <td>17</td>\n",
       "      <td>6</td>\n",
       "      <td>2</td>\n",
       "      <td>4.328540</td>\n",
       "      <td>6.744059</td>\n",
       "    </tr>\n",
       "  </tbody>\n",
       "</table>\n",
       "</div>"
      ],
      "text/plain": [
       "   vendor_id  passenger_count  store_and_fwd_flag_encoded  pickup_day  \\\n",
       "0          2                1                           0          29   \n",
       "1          1                2                           0          11   \n",
       "2          2                2                           0          21   \n",
       "3          2                6                           0           5   \n",
       "4          1                1                           0          17   \n",
       "\n",
       "   pickup_hour  pickup_weekday  dropoff_day  dropoff_hour  dropoff_weekday  \\\n",
       "0           16               0           29            16                0   \n",
       "1           23               4           11            23                4   \n",
       "2           17               6           21            18                6   \n",
       "3            9               1            5            10                1   \n",
       "4            6               2           17             6                2   \n",
       "\n",
       "   distance  trip_duration_log  \n",
       "0  1.199074           5.993961  \n",
       "1  4.129117           7.003974  \n",
       "2  7.250763           7.400010  \n",
       "3  2.361101           7.040536  \n",
       "4  4.328540           6.744059  "
      ]
     },
     "execution_count": 27,
     "metadata": {},
     "output_type": "execute_result"
    }
   ],
   "source": [
    "df.head()"
   ]
  },
  {
   "cell_type": "code",
   "execution_count": 28,
   "id": "1ec6c653",
   "metadata": {},
   "outputs": [
    {
     "data": {
      "text/plain": [
       "(729286, 11)"
      ]
     },
     "execution_count": 28,
     "metadata": {},
     "output_type": "execute_result"
    }
   ],
   "source": [
    "df.shape"
   ]
  },
  {
   "cell_type": "code",
   "execution_count": 29,
   "id": "184dbccc",
   "metadata": {},
   "outputs": [],
   "source": [
    "#independent variables\n",
    "X = df.drop('trip_duration_log', axis=1)\n",
    "\n",
    "#dependent variable\n",
    "y = df['trip_duration_log']"
   ]
  },
  {
   "cell_type": "markdown",
   "id": "c34df989",
   "metadata": {},
   "source": [
    "## 1. KNN Model "
   ]
  },
  {
   "cell_type": "code",
   "execution_count": 30,
   "id": "941d22a1",
   "metadata": {},
   "outputs": [],
   "source": [
    "# First, We'll scale the data:\n",
    "scaler = MinMaxScaler()\n",
    "x_scaled = scaler.fit_transform(X)\n",
    "\n",
    "X = pd.DataFrame(x_scaled, columns=X.columns)"
   ]
  },
  {
   "cell_type": "code",
   "execution_count": 31,
   "id": "a3eda108",
   "metadata": {},
   "outputs": [
    {
     "data": {
      "text/html": [
       "<div>\n",
       "<style scoped>\n",
       "    .dataframe tbody tr th:only-of-type {\n",
       "        vertical-align: middle;\n",
       "    }\n",
       "\n",
       "    .dataframe tbody tr th {\n",
       "        vertical-align: top;\n",
       "    }\n",
       "\n",
       "    .dataframe thead th {\n",
       "        text-align: right;\n",
       "    }\n",
       "</style>\n",
       "<table border=\"1\" class=\"dataframe\">\n",
       "  <thead>\n",
       "    <tr style=\"text-align: right;\">\n",
       "      <th></th>\n",
       "      <th>vendor_id</th>\n",
       "      <th>passenger_count</th>\n",
       "      <th>store_and_fwd_flag_encoded</th>\n",
       "      <th>pickup_day</th>\n",
       "      <th>pickup_hour</th>\n",
       "      <th>pickup_weekday</th>\n",
       "      <th>dropoff_day</th>\n",
       "      <th>dropoff_hour</th>\n",
       "      <th>dropoff_weekday</th>\n",
       "      <th>distance</th>\n",
       "    </tr>\n",
       "  </thead>\n",
       "  <tbody>\n",
       "    <tr>\n",
       "      <th>0</th>\n",
       "      <td>1.0</td>\n",
       "      <td>0.0</td>\n",
       "      <td>0.0</td>\n",
       "      <td>0.933333</td>\n",
       "      <td>0.695652</td>\n",
       "      <td>0.000000</td>\n",
       "      <td>0.933333</td>\n",
       "      <td>0.695652</td>\n",
       "      <td>0.000000</td>\n",
       "      <td>0.000966</td>\n",
       "    </tr>\n",
       "    <tr>\n",
       "      <th>1</th>\n",
       "      <td>0.0</td>\n",
       "      <td>0.2</td>\n",
       "      <td>0.0</td>\n",
       "      <td>0.333333</td>\n",
       "      <td>1.000000</td>\n",
       "      <td>0.666667</td>\n",
       "      <td>0.333333</td>\n",
       "      <td>1.000000</td>\n",
       "      <td>0.666667</td>\n",
       "      <td>0.003327</td>\n",
       "    </tr>\n",
       "    <tr>\n",
       "      <th>2</th>\n",
       "      <td>1.0</td>\n",
       "      <td>0.2</td>\n",
       "      <td>0.0</td>\n",
       "      <td>0.666667</td>\n",
       "      <td>0.739130</td>\n",
       "      <td>1.000000</td>\n",
       "      <td>0.666667</td>\n",
       "      <td>0.782609</td>\n",
       "      <td>1.000000</td>\n",
       "      <td>0.005843</td>\n",
       "    </tr>\n",
       "    <tr>\n",
       "      <th>3</th>\n",
       "      <td>1.0</td>\n",
       "      <td>1.0</td>\n",
       "      <td>0.0</td>\n",
       "      <td>0.133333</td>\n",
       "      <td>0.391304</td>\n",
       "      <td>0.166667</td>\n",
       "      <td>0.133333</td>\n",
       "      <td>0.434783</td>\n",
       "      <td>0.166667</td>\n",
       "      <td>0.001903</td>\n",
       "    </tr>\n",
       "    <tr>\n",
       "      <th>4</th>\n",
       "      <td>0.0</td>\n",
       "      <td>0.0</td>\n",
       "      <td>0.0</td>\n",
       "      <td>0.533333</td>\n",
       "      <td>0.260870</td>\n",
       "      <td>0.333333</td>\n",
       "      <td>0.533333</td>\n",
       "      <td>0.260870</td>\n",
       "      <td>0.333333</td>\n",
       "      <td>0.003488</td>\n",
       "    </tr>\n",
       "  </tbody>\n",
       "</table>\n",
       "</div>"
      ],
      "text/plain": [
       "   vendor_id  passenger_count  store_and_fwd_flag_encoded  pickup_day  \\\n",
       "0        1.0              0.0                         0.0    0.933333   \n",
       "1        0.0              0.2                         0.0    0.333333   \n",
       "2        1.0              0.2                         0.0    0.666667   \n",
       "3        1.0              1.0                         0.0    0.133333   \n",
       "4        0.0              0.0                         0.0    0.533333   \n",
       "\n",
       "   pickup_hour  pickup_weekday  dropoff_day  dropoff_hour  dropoff_weekday  \\\n",
       "0     0.695652        0.000000     0.933333      0.695652         0.000000   \n",
       "1     1.000000        0.666667     0.333333      1.000000         0.666667   \n",
       "2     0.739130        1.000000     0.666667      0.782609         1.000000   \n",
       "3     0.391304        0.166667     0.133333      0.434783         0.166667   \n",
       "4     0.260870        0.333333     0.533333      0.260870         0.333333   \n",
       "\n",
       "   distance  \n",
       "0  0.000966  \n",
       "1  0.003327  \n",
       "2  0.005843  \n",
       "3  0.001903  \n",
       "4  0.003488  "
      ]
     },
     "execution_count": 31,
     "metadata": {},
     "output_type": "execute_result"
    }
   ],
   "source": [
    "X.head()"
   ]
  },
  {
   "cell_type": "code",
   "execution_count": 32,
   "id": "221b08f9",
   "metadata": {},
   "outputs": [],
   "source": [
    "#importing the train-test split\n",
    "from sklearn.model_selection import train_test_split"
   ]
  },
  {
   "cell_type": "code",
   "execution_count": 33,
   "id": "22042218",
   "metadata": {},
   "outputs": [],
   "source": [
    "#importing other libraries\n",
    "from sklearn.neighbors import KNeighborsRegressor\n",
    "from sklearn.metrics import mean_squared_error\n",
    "from math import sqrt\n",
    "from sklearn.metrics import r2_score"
   ]
  },
  {
   "cell_type": "code",
   "execution_count": 34,
   "id": "0f29085e",
   "metadata": {},
   "outputs": [],
   "source": [
    "X_train, X_test, y_train, y_test = train_test_split(X, y, test_size=0.25, random_state=42)"
   ]
  },
  {
   "cell_type": "code",
   "execution_count": 35,
   "id": "8c12cb4a",
   "metadata": {},
   "outputs": [],
   "source": [
    "#elbow curve to determine the best value of k"
   ]
  },
  {
   "cell_type": "code",
   "execution_count": 36,
   "id": "07b65a03",
   "metadata": {},
   "outputs": [],
   "source": [
    "def elbow(k):\n",
    "  test = []\n",
    "\n",
    "  for i in k:\n",
    "    reg = KNeighborsRegressor(n_jobs=-1, n_neighbors=i)\n",
    "    reg.fit(X_train, y_train)\n",
    "\n",
    "    tmp_pred = reg.predict(X_test)\n",
    "    temp_error = sqrt(mean_squared_error(tmp_pred, y_test))\n",
    "    test.append(temp_error)\n",
    "\n",
    "  return test"
   ]
  },
  {
   "cell_type": "code",
   "execution_count": 37,
   "id": "55640fe4",
   "metadata": {},
   "outputs": [],
   "source": [
    "k = range(1, 10)"
   ]
  },
  {
   "cell_type": "code",
   "execution_count": 38,
   "id": "08ac493c",
   "metadata": {},
   "outputs": [],
   "source": [
    "test = elbow(k)"
   ]
  },
  {
   "cell_type": "code",
   "execution_count": 39,
   "id": "c9bceab0",
   "metadata": {},
   "outputs": [
    {
     "data": {
      "text/plain": [
       "Text(0.5, 1.0, 'Elbow curve for test')"
      ]
     },
     "execution_count": 39,
     "metadata": {},
     "output_type": "execute_result"
    },
    {
     "data": {
      "image/png": "[encoded data removed]",
      "text/plain": [
       "<Figure size 432x288 with 1 Axes>"
      ]
     },
     "metadata": {
      "needs_background": "light"
     },
     "output_type": "display_data"
    }
   ],
   "source": [
    "import matplotlib.pyplot as plt\n",
    "import seaborn as sns\n",
    "# plotting the curve\n",
    "plt.plot(k, test)\n",
    "plt.xlabel('K Neighbors')\n",
    "plt.ylabel('RMSE')\n",
    "plt.title('Elbow curve for test')"
   ]
  },
  {
   "cell_type": "code",
   "execution_count": 40,
   "id": "59590f2c",
   "metadata": {},
   "outputs": [
    {
     "data": {
      "text/plain": [
       "KNeighborsRegressor(n_jobs=-1, n_neighbors=4)"
      ]
     },
     "execution_count": 40,
     "metadata": {},
     "output_type": "execute_result"
    }
   ],
   "source": [
    "#We're taking n_neighbors=4 as the lowest error occurs at 4 in the above graph:\n",
    "\n",
    "knnr = KNeighborsRegressor(n_jobs=-1, n_neighbors=4)\n",
    "knnr.fit(X_train, y_train)"
   ]
  },
  {
   "cell_type": "code",
   "execution_count": 41,
   "id": "c702af64",
   "metadata": {},
   "outputs": [
    {
     "name": "stdout",
     "output_type": "stream",
     "text": [
      "r_square of knn model:  0.4998377578549731\n"
     ]
    }
   ],
   "source": [
    "# Getting prediction\n",
    "knn_y_pred = knnr.predict(X_test)\n",
    "\n",
    "# Now, getting RMSE score\n",
    "score = r2_score(y_test, knn_y_pred)\n",
    "\n",
    "print(\"r_square of knn model: \", score)"
   ]
  },
  {
   "cell_type": "markdown",
   "id": "3e763bea",
   "metadata": {},
   "source": [
    "## 2. Linear model using regularization"
   ]
  },
  {
   "cell_type": "code",
   "execution_count": 42,
   "id": "4064f5d1",
   "metadata": {},
   "outputs": [],
   "source": [
    "from sklearn.linear_model import LinearRegression\n",
    "from sklearn.linear_model import Ridge"
   ]
  },
  {
   "cell_type": "code",
   "execution_count": 43,
   "id": "27b51daa",
   "metadata": {},
   "outputs": [
    {
     "data": {
      "text/plain": [
       "LinearRegression()"
      ]
     },
     "execution_count": 43,
     "metadata": {},
     "output_type": "execute_result"
    }
   ],
   "source": [
    "lr = LinearRegression()\n",
    "lr.fit(X_train, y_train)"
   ]
  },
  {
   "cell_type": "code",
   "execution_count": 44,
   "id": "89e950bb",
   "metadata": {},
   "outputs": [
    {
     "name": "stdout",
     "output_type": "stream",
     "text": [
      "r-square of linear regressor model:  0.36508359775617505\n"
     ]
    }
   ],
   "source": [
    "# Getting prediction\n",
    "y_pred = lr.predict(X_test)\n",
    "\n",
    "# Again getting RMSE score\n",
    "score = r2_score(y_test, y_pred)\n",
    "print(\"r-square of linear regressor model: \", score)"
   ]
  },
  {
   "cell_type": "code",
   "execution_count": 57,
   "id": "8d5b826a",
   "metadata": {},
   "outputs": [
    {
     "data": {
      "text/plain": [
       "Ridge(alpha=0.001)"
      ]
     },
     "execution_count": 57,
     "metadata": {},
     "output_type": "execute_result"
    }
   ],
   "source": [
    "# Create ridge regression model\n",
    "ridge_regression = Ridge(alpha=0.001)\n",
    "ridge_regression.fit(X_train, y_train)\n",
    "######### took the alpha parameter using grid search on a different notebook"
   ]
  },
  {
   "cell_type": "code",
   "execution_count": 58,
   "id": "57c188c9",
   "metadata": {},
   "outputs": [
    {
     "name": "stdout",
     "output_type": "stream",
     "text": [
      "r-square of ridge regressor model:  0.36506765940304153\n"
     ]
    }
   ],
   "source": [
    "# Getting prediction\n",
    "ridge_y_pred = ridge_regression.predict(X_test)\n",
    "\n",
    "# Again getting RMSE score\n",
    "score = r2_score(y_test, ridge_y_pred)\n",
    "print(\"r-square of ridge regressor model: \", score)"
   ]
  },
  {
   "cell_type": "markdown",
   "id": "66a506ec",
   "metadata": {},
   "source": [
    "## 3. Random Forest Model"
   ]
  },
  {
   "cell_type": "code",
   "execution_count": 59,
   "id": "22e62623",
   "metadata": {},
   "outputs": [],
   "source": [
    "from sklearn.ensemble import RandomForestRegressor"
   ]
  },
  {
   "cell_type": "code",
   "execution_count": 60,
   "id": "b845a372",
   "metadata": {},
   "outputs": [
    {
     "data": {
      "text/plain": [
       "RandomForestRegressor(random_state=56)"
      ]
     },
     "execution_count": 60,
     "metadata": {},
     "output_type": "execute_result"
    }
   ],
   "source": [
    "# Create random forest regression model\n",
    "clf = RandomForestRegressor(random_state=56)\n",
    "clf.fit(X_train, y_train)"
   ]
  },
  {
   "cell_type": "code",
   "execution_count": 70,
   "id": "a1a5a7fc",
   "metadata": {},
   "outputs": [],
   "source": [
    "# Using Random search to improve the model performance by selecting best hyperparameters\n",
    "from sklearn.model_selection import RandomizedSearchCV"
   ]
  },
  {
   "cell_type": "code",
   "execution_count": 71,
   "id": "05c5c2d9",
   "metadata": {},
   "outputs": [],
   "source": [
    "para_grid = {\n",
    "    'max_depth' : [3, 6, 9, 12, 15, 18, 21],\n",
    "    'n_estimators' : [100, 150, 200, 250, 300, 350]\n",
    "    }"
   ]
  },
  {
   "cell_type": "code",
   "execution_count": 72,
   "id": "c4094d40",
   "metadata": {},
   "outputs": [],
   "source": [
    "randomsearch = RandomizedSearchCV(estimator=clf, param_distributions=para_grid, n_iter=5 , cv=3)"
   ]
  },
  {
   "cell_type": "code",
   "execution_count": 73,
   "id": "742eb0eb",
   "metadata": {},
   "outputs": [
    {
     "data": {
      "text/plain": [
       "RandomizedSearchCV(cv=3, estimator=RandomForestRegressor(random_state=56),\n",
       "                   n_iter=5,\n",
       "                   param_distributions={'max_depth': [3, 6, 9, 12, 15, 18, 21],\n",
       "                                        'n_estimators': [100, 150, 200, 250,\n",
       "                                                         300, 350]})"
      ]
     },
     "execution_count": 73,
     "metadata": {},
     "output_type": "execute_result"
    }
   ],
   "source": [
    "randomsearch.fit(X_train, y_train)"
   ]
  },
  {
   "cell_type": "code",
   "execution_count": 75,
   "id": "b52adaa5",
   "metadata": {},
   "outputs": [
    {
     "data": {
      "text/plain": [
       "{'n_estimators': 350, 'max_depth': 15}"
      ]
     },
     "execution_count": 75,
     "metadata": {},
     "output_type": "execute_result"
    }
   ],
   "source": [
    "randomsearch.best_params_"
   ]
  },
  {
   "cell_type": "code",
   "execution_count": 76,
   "id": "fdea8718",
   "metadata": {},
   "outputs": [
    {
     "data": {
      "text/plain": [
       "RandomForestRegressor(max_depth=15, n_estimators=350, random_state=56)"
      ]
     },
     "execution_count": 76,
     "metadata": {},
     "output_type": "execute_result"
    }
   ],
   "source": [
    "# Putting above best hyperparameters here:\n",
    "clf = RandomForestRegressor(random_state=56, n_estimators=350, max_depth=15 )\n",
    "clf.fit(X_train, y_train)"
   ]
  },
  {
   "cell_type": "code",
   "execution_count": 77,
   "id": "ead19ff8",
   "metadata": {},
   "outputs": [
    {
     "name": "stdout",
     "output_type": "stream",
     "text": [
      "r-square of random forest regressor model:  0.6906576414763987\n"
     ]
    }
   ],
   "source": [
    "# Getting prediction\n",
    "pred1 = clf.predict(X_test)\n",
    "\n",
    "# Again, getting RMSE score\n",
    "score = r2_score(y_test, pred1)\n",
    "print(\"r-square of random forest regressor model: \", score)"
   ]
  },
  {
   "cell_type": "markdown",
   "id": "74131398",
   "metadata": {},
   "source": [
    "Initial score was: 0.6677435123744506.  \n",
    "\n",
    "After using random search to select hyperparameters, the score improved: 0.6906576414763987"
   ]
  },
  {
   "cell_type": "markdown",
   "id": "e29fd5c1",
   "metadata": {},
   "source": [
    "## 4. Gradient Boosting Model"
   ]
  },
  {
   "cell_type": "code",
   "execution_count": 66,
   "id": "4b197f1c",
   "metadata": {},
   "outputs": [
    {
     "data": {
      "text/plain": [
       "GradientBoostingRegressor(max_depth=12, n_estimators=200, random_state=56)"
      ]
     },
     "execution_count": 66,
     "metadata": {},
     "output_type": "execute_result"
    }
   ],
   "source": [
    "#Importing GBDT Regressor \n",
    "from sklearn.ensemble import GradientBoostingRegressor"
   ]
  },
  {
   "cell_type": "code",
   "execution_count": null,
   "id": "c74dc442",
   "metadata": {},
   "outputs": [],
   "source": [
    "##### Used grid search on a different notebook as system was crashing again & again while applying on this notebook.\n",
    "\n",
    "dlf = GradientBoostingRegressor(random_state = 56, max_depth =12, n_estimators= 200)\n",
    "dlf.fit(X_train, y_train)"
   ]
  },
  {
   "cell_type": "code",
   "execution_count": 67,
   "id": "0be7df76",
   "metadata": {},
   "outputs": [
    {
     "data": {
      "text/plain": [
       "0.7133321290869725"
      ]
     },
     "execution_count": 67,
     "metadata": {},
     "output_type": "execute_result"
    }
   ],
   "source": [
    "pred2 = dlf.predict(X_test)\n",
    "\n",
    "# Again, getting RMSE score\n",
    "score = r2_score(y_test, pred2)\n",
    "score"
   ]
  },
  {
   "cell_type": "markdown",
   "id": "595006d8",
   "metadata": {},
   "source": [
    "\n",
    "\n",
    "Initial score was: 0.6577938373282\n",
    "\n",
    "After using grid search to select hyperparameters, the score improved: 0.7133321290869725"
   ]
  },
  {
   "cell_type": "markdown",
   "id": "15eba920",
   "metadata": {},
   "source": [
    "## 5. Averaging of the above models"
   ]
  },
  {
   "cell_type": "code",
   "execution_count": 80,
   "id": "a7fd8a69",
   "metadata": {},
   "outputs": [
    {
     "data": {
      "text/plain": [
       "0.6650294761127045"
      ]
     },
     "execution_count": 80,
     "metadata": {},
     "output_type": "execute_result"
    }
   ],
   "source": [
    "final_pred = (knn_y_pred + ridge_y_pred + pred1 + pred2)/4\n",
    "\n",
    "score = r2_score(y_test, final_pred)\n",
    "score"
   ]
  },
  {
   "cell_type": "markdown",
   "id": "79e2a33e",
   "metadata": {},
   "source": [
    "### Average prediction of all models is: 0.6650294761127045"
   ]
  }
 ],
 "metadata": {
  "kernelspec": {
   "display_name": "Python 3",
   "language": "python",
   "name": "python3"
  },
  "language_info": {
   "codemirror_mode": {
    "name": "ipython",
    "version": 3
   },
   "file_extension": ".py",
   "mimetype": "text/x-python",
   "name": "python",
   "nbconvert_exporter": "python",
   "pygments_lexer": "ipython3",
   "version": "3.8.8"
  }
 },
 "nbformat": 4,
 "nbformat_minor": 5
}
