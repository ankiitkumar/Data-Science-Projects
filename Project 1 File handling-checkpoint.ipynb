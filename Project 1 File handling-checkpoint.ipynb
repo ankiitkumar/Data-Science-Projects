{
 "cells": [
  {
   "cell_type": "markdown",
   "id": "2e900e95",
   "metadata": {},
   "source": [
    "# Project : File Handling & String Manipulation"
   ]
  },
  {
   "cell_type": "markdown",
   "id": "9abd7148",
   "metadata": {},
   "source": [
    "## Task: A sample script of Game of Thrones was taken from the page and stored in the file conv.txt in the dataset provided. Your task is to read the file and do the following:"
   ]
  },
  {
   "cell_type": "markdown",
   "id": "a559e8bb",
   "metadata": {},
   "source": [
    "### 1. Find out the number of unique characters in the sample conversation?"
   ]
  },
  {
   "cell_type": "code",
   "execution_count": 1,
   "id": "9721ce57",
   "metadata": {},
   "outputs": [
    {
     "name": "stdout",
     "output_type": "stream",
     "text": [
      "Number of unique characters in the script :  17\n",
      "The Unique Names are : \n",
      "WILL, WAYMAR ROYCE, GARED, ROYCE, JON, SEPTA MORDANE, SANSA, NED, ROBB, CASSEL, CATELYN, BRAN, THEON, CERSEI, JAIME, ROBERT, ARYA, "
     ]
    }
   ],
   "source": [
    "characters_in_csv = []\n",
    "\n",
    "# read all the lines_in_csv in txt file\n",
    "text_file = open('C:/Users/ankit/datasets/datasets/conv.txt')\n",
    "complete_text = text_file.readlines()\n",
    "text_file.close()\n",
    "\n",
    "# ignore all lines with only newline character and choose the rest \n",
    "for line in complete_text :\n",
    "    if line == '\\n':\n",
    "        pass\n",
    "    else :\n",
    "        # list of characters in txt file obtained by splitting with delimiter \": \"\n",
    "        character = line.split(\": \")[0] #WILL\n",
    "        # For unique values, skip the name if it is already in the list\n",
    "        if character in characters_in_csv : \n",
    "            pass\n",
    "        else :\n",
    "            characters_in_csv.append(character)\n",
    "            \n",
    "print(\"Number of unique characters in the script : \", len(characters_in_csv)) \n",
    "print(\"The Unique Names are : \")\n",
    "\n",
    "for name in characters_in_csv : \n",
    "    print(name, end = ', ')"
   ]
  },
  {
   "cell_type": "markdown",
   "id": "35a59531",
   "metadata": {},
   "source": [
    "### 2. Create a new text file for each of the characters with their name and store the unique words said by them in their respective file. Store one word in one line"
   ]
  },
  {
   "cell_type": "code",
   "execution_count": 2,
   "id": "540ae5f8",
   "metadata": {},
   "outputs": [],
   "source": [
    "# In the given text file we will again split the character and dialogue and append them in a blank list, which will create\n",
    "# a nested list comprising list of each dialogue along with\n",
    "# its speaker on the 1st and 0th index respectively.\n",
    "\n",
    "name_set = set(characters_in_csv)\n",
    "\n",
    "conversation = []\n",
    "\n",
    "with open('C:/Users/ankit/datasets/datasets/conv.txt', 'r') as text:\n",
    "    \n",
    "    for i in text:\n",
    "        if i[0]== '\\n':\n",
    "            pass\n",
    "        else:\n",
    "            conversation.append(i.split(': '))"
   ]
  },
  {
   "cell_type": "code",
   "execution_count": 3,
   "id": "99c1ddb1",
   "metadata": {},
   "outputs": [],
   "source": [
    "# Now we will compare the 0th index containing names in \"conversation\" with the names in \"name_set\" created in above question\n",
    "# in a nested for loop. If the 0th index will match, 1st index of that list will be converted to string and\n",
    "# appended in the blank string \"dialogue_str\" in each loop.\n",
    "\n",
    "for i in name_set:\n",
    "    dialogue_str = \"\"\n",
    "    for j in conversation:\n",
    "        if j[0] == i:\n",
    "            dialogue_str = dialogue_str+str(j[1])\n",
    "\n",
    "# Now \"dialogue_str\" will be cleaned and all the words will be converted to uppercase/ lowercase in order to avoid\n",
    "# repetition due to case difference and then splitted to individual words.\n",
    "    \n",
    "    dialogue_str = dialogue_str.replace('!', '').replace(\".\",\"\").replace(\",\",\"\").replace(\"?\", \"\").upper()\n",
    "    dialogue_split = dialogue_str.split()\n",
    "\n",
    "# Convert these individual words present inside \"dialogue_split\" in to a set for getting unique words named \"dialogue_set\".\n",
    "    dialogue_set = set(dialogue_split)\n",
    "    \n",
    "# Insert these words from \"dialogue_set\" using for loop, creating respective text files by creating a file writing path\n",
    "# in 'w' mode, then close the file for the 'for loop'.\n",
    "    file = open(i+'.txt','w')\n",
    "    for k in dialogue_set:\n",
    "        file.write(k + '\\n')\n",
    "    file.close()"
   ]
  },
  {
   "cell_type": "code",
   "execution_count": null,
   "id": "06c5508d",
   "metadata": {},
   "outputs": [],
   "source": []
  }
 ],
 "metadata": {
  "kernelspec": {
   "display_name": "Python 3",
   "language": "python",
   "name": "python3"
  },
  "language_info": {
   "codemirror_mode": {
    "name": "ipython",
    "version": 3
   },
   "file_extension": ".py",
   "mimetype": "text/x-python",
   "name": "python",
   "nbconvert_exporter": "python",
   "pygments_lexer": "ipython3",
   "version": "3.8.8"
  }
 },
 "nbformat": 4,
 "nbformat_minor": 5
}
